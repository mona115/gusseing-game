{
  "nbformat": 4,
  "nbformat_minor": 0,
  "metadata": {
    "kernelspec": {
      "display_name": "Python 3",
      "language": "python",
      "name": "python3"
    },
    "language_info": {
      "codemirror_mode": {
        "name": "ipython",
        "version": 3
      },
      "file_extension": ".py",
      "mimetype": "text/x-python",
      "name": "python",
      "nbconvert_exporter": "python",
      "pygments_lexer": "ipython3",
      "version": "3.6.2"
    },
    "colab": {
      "name": "Copy of Python Challenge Guessing Game.ipynb",
      "provenance": [],
      "collapsed_sections": [],
      "toc_visible": true
    }
  },
  "cells": [
    {
      "cell_type": "markdown",
      "metadata": {
        "id": "NQuOyznPahpH"
      },
      "source": [
        "# Guessing Game Challenge\n",
        "\n",
        "Let's use `while` loops to create a guessing game.\n",
        "\n",
        "The Challenge:\n",
        "\n",
        "Write a program that picks a random integer from 1 to 100, and has players guess the number. The rules are:\n",
        "\n",
        "1. If a player's guess is less than 1 or greater than 100, say \"OUT OF BOUNDS\"\n",
        "\n",
        "2. On all turns, if a guess is \n",
        " * closer to the number than the previous guess return \"Closer!\"\n",
        " * farther from the number than the previous guess, return \"Farther!\"\n",
        "3. When the player's guess equals the number, tell them they've guessed correctly *and* how many guesses it took!\n",
        "\n",
        "Now Lets o fro the Steps!"
      ]
    },
    {
      "cell_type": "markdown",
      "metadata": {
        "id": "6K7SSiaEahpK"
      },
      "source": [
        "#### First, Build a Line of Code that can Return arandom integer from 1 to 100 and store this number in object called Actual"
      ]
    },
    {
      "cell_type": "code",
      "metadata": {
        "id": "8R7ayXGwahpL",
        "colab": {
          "base_uri": "https://localhost:8080/"
        },
        "outputId": "41742dca-2241-4cef-c65c-c3ed1787929f"
      },
      "source": [
        "#Type Your Code Here  - Replace None with Correct  Function  \n",
        "Actual = None \n",
        "Actual=list(range(1,100))\n",
        "print(Actual)"
      ],
      "execution_count": null,
      "outputs": [
        {
          "output_type": "stream",
          "text": [
            "[1, 2, 3, 4, 5, 6, 7, 8, 9, 10, 11, 12, 13, 14, 15, 16, 17, 18, 19, 20, 21, 22, 23, 24, 25, 26, 27, 28, 29, 30, 31, 32, 33, 34, 35, 36, 37, 38, 39, 40, 41, 42, 43, 44, 45, 46, 47, 48, 49, 50, 51, 52, 53, 54, 55, 56, 57, 58, 59, 60, 61, 62, 63, 64, 65, 66, 67, 68, 69, 70, 71, 72, 73, 74, 75, 76, 77, 78, 79, 80, 81, 82, 83, 84, 85, 86, 87, 88, 89, 90, 91, 92, 93, 94, 95, 96, 97, 98, 99]\n"
          ],
          "name": "stdout"
        }
      ]
    },
    {
      "cell_type": "markdown",
      "metadata": {
        "id": "la65uFUjahpO"
      },
      "source": [
        "#### Next, build a Code to display an introduction to the Game to tell the user the Boundaries from 1 to 100 and what is his target."
      ]
    },
    {
      "cell_type": "markdown",
      "metadata": {
        "id": "GyW_z6Sf74yG"
      },
      "source": [
        "### Next, Build a Code that takes an integer input from the user "
      ]
    },
    {
      "cell_type": "code",
      "metadata": {
        "id": "UZCNvK4o82k-"
      },
      "source": [
        "#Type Your Code Here - Replace None With Correct Function \n",
        "Guess= None "
      ],
      "execution_count": null,
      "outputs": []
    },
    {
      "cell_type": "code",
      "metadata": {
        "colab": {
          "base_uri": "https://localhost:8080/"
        },
        "id": "ieOBGm1ByVXf",
        "outputId": "2432077d-88a9-4126-86d2-b2f97512f555"
      },
      "source": [
        "import random\n",
        "print(\"Here are the rules: \\n'Guess a number between 1 and 100. We'll give you a hint if you need one.'\")\n",
        "num = int(random.randint(1,100))\n",
        "print(num)\n",
        "guess_count = int(1)\n",
        "guess = int(input(\"Guess a number! \"))\n",
        "while guess != num:\n",
        "    guess_list = guess_count + 1\n",
        "    if guess <= 0:\n",
        "        print(\"Out of Bounds. Try again.\")\n",
        "    if guess > 100:\n",
        "        print(\"Out of Bounds. Try again.\")\n",
        "    guess = int(input(\"Guess again: \"))\n",
        "if guess == num:\n",
        "    print(\"You've won! It took you %d tries, but you got it. \" % (guess_count))"
      ],
      "execution_count": null,
      "outputs": [
        {
          "output_type": "stream",
          "text": [
            "Here are the rules: \n",
            "'Guess a number between 1 and 100. We'll give you a hint if you need one.'\n",
            "55\n",
            "Guess a number! 22\n",
            "Guess again: 150\n",
            "Out of Bounds. Try again.\n",
            "Guess again: 55\n",
            "You've won! It took you 1 tries, but you got it. \n"
          ],
          "name": "stdout"
        }
      ]
    },
    {
      "cell_type": "markdown",
      "metadata": {
        "id": "BHsh0slo834l"
      },
      "source": [
        "### Next, Put the Upper Cell in A Loop that keeps checking if the Number is Out of Bounds or Not  "
      ]
    },
    {
      "cell_type": "markdown",
      "metadata": {
        "id": "d-USlvx8dNak"
      },
      "source": [
        "### Next, Build a Code that Check if the Guess is equal to the Actual Random Number"
      ]
    },
    {
      "cell_type": "code",
      "metadata": {
        "colab": {
          "base_uri": "https://localhost:8080/"
        },
        "id": "jt3g0w8DCt26",
        "outputId": "2d6acca0-fe1e-42fd-aaec-6147a1529b03"
      },
      "source": [
        "import random\n",
        "i=0\n",
        "c=0\n",
        "l=[]\n",
        "x=random.randint(1,100)\n",
        "print(x)\n",
        "while i<1:\n",
        "    c+=1\n",
        "    a=int(input('Guess a number b/w 1 & 100: '))\n",
        "    l.append(a)\n",
        "    \n",
        "    if (a<1 or a>100):\n",
        "        print('OUT OF BOUNDS')\n",
        "        \n",
        "    elif (a==x):\n",
        "        print(\"That's the correct number & your number of guesses are {}\".format(c))\n",
        "        i=1\n",
        "        \n",
        "        \n",
        "    else:\n",
        "        if (c!=1):\n",
        "          if abs(a-x)>abs(l[-2]-x):\n",
        "                print('Closer')\n",
        "\n",
        "          else:\n",
        "                print('Farther')\n",
        "           \n",
        "            "
      ],
      "execution_count": null,
      "outputs": [
        {
          "output_type": "stream",
          "text": [
            "75\n",
            "Guess a number b/w 1 & 100: 25\n",
            "Guess a number b/w 1 & 100: 100\n",
            "Farther\n",
            "Guess a number b/w 1 & 100: 88\n",
            "Farther\n",
            "Guess a number b/w 1 & 100: 70\n",
            "Farther\n",
            "Guess a number b/w 1 & 100: 75\n",
            "That's the correct number & your number of guesses are 5\n"
          ],
          "name": "stdout"
        }
      ]
    },
    {
      "cell_type": "code",
      "metadata": {
        "id": "E95mJnFNdfiW",
        "colab": {
          "base_uri": "https://localhost:8080/",
          "height": 146
        },
        "outputId": "d0d842d6-95d2-4e6b-a667-5a3f53b32b15"
      },
      "source": [
        "guesses= None #Make it an Empty List \n",
        "#Change None to Correct Boolean between\n",
        "if  x == guess: :\n",
        "  print ('Wow, you've guessed Correctly this time') #Fix \n",
        "  'You have guessed it in {} times'.format(None) # Put function that calculate the Real Number of Guesses "
      ],
      "execution_count": null,
      "outputs": [
        {
          "output_type": "error",
          "ename": "SyntaxError",
          "evalue": "ignored",
          "traceback": [
            "\u001b[0;36m  File \u001b[0;32m\"<ipython-input-5-dd6b0cb53f66>\"\u001b[0;36m, line \u001b[0;32m3\u001b[0m\n\u001b[0;31m    if  x == guess: :\u001b[0m\n\u001b[0m                    ^\u001b[0m\n\u001b[0;31mSyntaxError\u001b[0m\u001b[0;31m:\u001b[0m invalid syntax\n"
          ]
        }
      ]
    },
    {
      "cell_type": "markdown",
      "metadata": {
        "id": "VWNf49z6WVek"
      },
      "source": [
        "### Next, Build a Code that Check on Each Guess whether its closer than the Previous Guess or not."
      ]
    },
    {
      "cell_type": "code",
      "metadata": {
        "id": "O7McDw6pbVfX"
      },
      "source": [
        "\n",
        "while(None):\n",
        "  if  None :\n",
        "    print(' you are closer to target ')\n",
        "  print(' you are far from the target ')\n",
        "\n"
      ],
      "execution_count": null,
      "outputs": []
    },
    {
      "cell_type": "markdown",
      "metadata": {
        "id": "v-wMuTZLahpY"
      },
      "source": [
        "#### Write a `while` loop that compares the player's guess to our number. If the player guesses correctly, break from the loop. Otherwise, tell the player if they're Closer or Farer , and continue asking for guesses.\n",
        "\n",
        "**Try to Collect All the cells you 've made above and use it here**\n",
        "\n",
        "Hint:\n",
        "\n",
        "\n",
        "* you can use the `abs()` function to find the positive difference between two numbers\n",
        "\n",
        "\n",
        "# Decomposition \n",
        "\n",
        "*   Choosing Random Number\n",
        "*   Game Intro for the User\n",
        "*   Checking on the Inserted Guess if its in boundary or not\n",
        "*   Checking on the Inserted Guess if its equal to the Random Number or Not\n",
        "*   Checking on the Inserted Guess if its Far or Close from the Previous Guess.\n",
        "\n",
        "\n",
        "\n"
      ]
    },
    {
      "cell_type": "code",
      "metadata": {
        "id": "FaifUKKUahpZ"
      },
      "source": [
        "# Type your Final Code here\n"
      ],
      "execution_count": null,
      "outputs": []
    },
    {
      "cell_type": "code",
      "metadata": {
        "id": "3WmFudWAl7gi"
      },
      "source": [
        "# Type here the Big Loop\n",
        "while None :\n",
        "  continue "
      ],
      "execution_count": null,
      "outputs": []
    },
    {
      "cell_type": "markdown",
      "metadata": {
        "id": "5UZ7l5wEahpb"
      },
      "source": [
        "That's it! You've just programmed your first game!\n",
        "\n",
        "In the next section we'll learn how to turn some of these repetitive actions into *functions* that can be called whenever we need them."
      ]
    },
    {
      "cell_type": "markdown",
      "metadata": {
        "id": "HlHfgyZ9ahpc"
      },
      "source": [
        "### Good Job!"
      ]
    }
  ]
}